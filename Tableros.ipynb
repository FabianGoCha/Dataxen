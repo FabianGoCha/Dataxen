{
 "cells": [
  {
   "cell_type": "code",
   "execution_count": 1,
   "metadata": {},
   "outputs": [],
   "source": [
    "import pandas as pd"
   ]
  },
  {
   "cell_type": "code",
   "execution_count": 51,
   "metadata": {},
   "outputs": [],
   "source": [
    "covid = pd.read_csv(\"poblacion/covid.csv\")\n",
    "poblacion = pd.read_csv(\"poblacion/poblacion_municipio.csv\")"
   ]
  },
  {
   "cell_type": "code",
   "execution_count": 52,
   "metadata": {},
   "outputs": [],
   "source": [
    "covid['Casos']= covid['Casos'].str.replace(',','')\n",
    "covid['Defunciones']= covid['Defunciones'].str.replace(',','')\n",
    "poblacion['Habitantes 2020'] = poblacion['Habitantes 2020'].str.replace(',','')"
   ]
  },
  {
   "cell_type": "code",
   "execution_count": 53,
   "metadata": {},
   "outputs": [],
   "source": [
    "covid['Casos']= covid['Casos'].astype('float64')\n",
    "covid['Defunciones']= covid['Defunciones'].astype('float64')\n",
    "poblacion['Habitantes 2020'] = poblacion['Habitantes 2020'].astype('float64')"
   ]
  },
  {
   "cell_type": "code",
   "execution_count": 54,
   "metadata": {},
   "outputs": [],
   "source": [
    "covid.drop(covid.tail(1).index,inplace=True)"
   ]
  },
  {
   "cell_type": "code",
   "execution_count": 55,
   "metadata": {},
   "outputs": [],
   "source": [
    "covid = covid.fillna(0)"
   ]
  },
  {
   "cell_type": "code",
   "execution_count": 56,
   "metadata": {},
   "outputs": [
    {
     "data": {
      "text/html": [
       "<div>\n",
       "<style scoped>\n",
       "    .dataframe tbody tr th:only-of-type {\n",
       "        vertical-align: middle;\n",
       "    }\n",
       "\n",
       "    .dataframe tbody tr th {\n",
       "        vertical-align: top;\n",
       "    }\n",
       "\n",
       "    .dataframe thead th {\n",
       "        text-align: right;\n",
       "    }\n",
       "</style>\n",
       "<table border=\"1\" class=\"dataframe\">\n",
       "  <thead>\n",
       "    <tr style=\"text-align: right;\">\n",
       "      <th></th>\n",
       "      <th>Clave del municipio</th>\n",
       "      <th>Municipio</th>\n",
       "      <th>Habitantes 2020</th>\n",
       "    </tr>\n",
       "  </thead>\n",
       "  <tbody>\n",
       "    <tr>\n",
       "      <th>0</th>\n",
       "      <td>1</td>\n",
       "      <td>Acambay de Ruíz Castañeda</td>\n",
       "      <td>67872.0</td>\n",
       "    </tr>\n",
       "    <tr>\n",
       "      <th>1</th>\n",
       "      <td>2</td>\n",
       "      <td>Acolman</td>\n",
       "      <td>171507.0</td>\n",
       "    </tr>\n",
       "    <tr>\n",
       "      <th>2</th>\n",
       "      <td>3</td>\n",
       "      <td>Aculco</td>\n",
       "      <td>49266.0</td>\n",
       "    </tr>\n",
       "    <tr>\n",
       "      <th>3</th>\n",
       "      <td>4</td>\n",
       "      <td>Almoloya de Alquisiras</td>\n",
       "      <td>15333.0</td>\n",
       "    </tr>\n",
       "    <tr>\n",
       "      <th>4</th>\n",
       "      <td>5</td>\n",
       "      <td>Almoloya de Juárez</td>\n",
       "      <td>174587.0</td>\n",
       "    </tr>\n",
       "    <tr>\n",
       "      <th>...</th>\n",
       "      <td>...</td>\n",
       "      <td>...</td>\n",
       "      <td>...</td>\n",
       "    </tr>\n",
       "    <tr>\n",
       "      <th>120</th>\n",
       "      <td>121</td>\n",
       "      <td>Cuautitlán Izcalli</td>\n",
       "      <td>555163.0</td>\n",
       "    </tr>\n",
       "    <tr>\n",
       "      <th>121</th>\n",
       "      <td>122</td>\n",
       "      <td>Valle de Chalco Solidaridad</td>\n",
       "      <td>391731.0</td>\n",
       "    </tr>\n",
       "    <tr>\n",
       "      <th>122</th>\n",
       "      <td>123</td>\n",
       "      <td>Luvianos</td>\n",
       "      <td>28822.0</td>\n",
       "    </tr>\n",
       "    <tr>\n",
       "      <th>123</th>\n",
       "      <td>124</td>\n",
       "      <td>San José del Rincón</td>\n",
       "      <td>100082.0</td>\n",
       "    </tr>\n",
       "    <tr>\n",
       "      <th>124</th>\n",
       "      <td>125</td>\n",
       "      <td>Tonanitla</td>\n",
       "      <td>14883.0</td>\n",
       "    </tr>\n",
       "  </tbody>\n",
       "</table>\n",
       "<p>125 rows × 3 columns</p>\n",
       "</div>"
      ],
      "text/plain": [
       "     Clave del municipio                    Municipio  Habitantes 2020\n",
       "0                      1    Acambay de Ruíz Castañeda          67872.0\n",
       "1                      2                      Acolman         171507.0\n",
       "2                      3                       Aculco          49266.0\n",
       "3                      4       Almoloya de Alquisiras          15333.0\n",
       "4                      5           Almoloya de Juárez         174587.0\n",
       "..                   ...                          ...              ...\n",
       "120                  121           Cuautitlán Izcalli         555163.0\n",
       "121                  122  Valle de Chalco Solidaridad         391731.0\n",
       "122                  123                     Luvianos          28822.0\n",
       "123                  124          San José del Rincón         100082.0\n",
       "124                  125                    Tonanitla          14883.0\n",
       "\n",
       "[125 rows x 3 columns]"
      ]
     },
     "execution_count": 56,
     "metadata": {},
     "output_type": "execute_result"
    }
   ],
   "source": [
    "poblacion"
   ]
  }
 ],
 "metadata": {
  "kernelspec": {
   "display_name": "dataxen",
   "language": "python",
   "name": "python3"
  },
  "language_info": {
   "name": "python"
  }
 },
 "nbformat": 4,
 "nbformat_minor": 2
}
